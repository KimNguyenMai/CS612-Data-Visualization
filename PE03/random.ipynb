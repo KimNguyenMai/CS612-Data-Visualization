{
 "cells": [
  {
   "cell_type": "code",
   "execution_count": null,
   "metadata": {},
   "outputs": [],
   "source": [
    "# In this programming exercise, you are expected to calculate the crossing time of a random walk. The section 4.7 of the textbook has an illustrative example for this programming exercise.\n",
    "\n",
    "# The section shows how to generate normally distributed steps with mean 0 and standard deviation of 0.25.\n",
    "\n",
    "# In [272]: steps = np.random.normal(loc=0, scale=0.25, size=(nwalks, nsteps))\n",
    "\n",
    "# Please make sure you meet the following requirements.\n",
    "\n",
    "# Use the random seed of 1234 to generate the same random sequences.\n",
    "# Generate normally distributed steps described above.\n",
    "# Set the step +1 if the generated random number is nonnegative; otherwise -1.\n",
    "# Use nwalks = 5000 and nsteps = 1000 to generate 5000 instances of 1000 random walks.\n",
    "# Calculate the minimum crossing time to -50 (not 50), which is the minimum time for a random walk to reach -50. (This is a slight deviation from the textbook example.)\n",
    "# Your code needs to generate the following:\n",
    "\n",
    "# Print the number of random walks that hit -50.\n",
    "# Print the average minimum crossing time.\n",
    "# Your code should have the following display:\n",
    "# The number of random walks that hit -50: your answer for #1\n",
    "# The average minimum crossing time: your answer for #2\n"
   ]
  },
  {
   "cell_type": "code",
   "execution_count": 105,
   "metadata": {},
   "outputs": [],
   "source": [
    "import random\n",
    "import numpy as np"
   ]
  },
  {
   "cell_type": "code",
   "execution_count": 106,
   "metadata": {},
   "outputs": [],
   "source": [
    "nwalks = 5000\n",
    "nsteps = 1000"
   ]
  },
  {
   "cell_type": "code",
   "execution_count": 107,
   "metadata": {},
   "outputs": [],
   "source": [
    "draws = np.random.normal(loc=0, scale=0.25, size=(nwalks, nsteps))"
   ]
  },
  {
   "cell_type": "code",
   "execution_count": 108,
   "metadata": {},
   "outputs": [
    {
     "output_type": "execute_result",
     "data": {
      "text/plain": "array([[-0.10216343, -0.27552644, -0.26135547, ...,  0.00774533,\n        -0.16476781, -0.19283865],\n       [ 0.23507673, -0.4205162 , -0.31626851, ..., -0.11426442,\n        -0.05910433, -0.14985285],\n       [ 0.35389584, -0.03166638,  0.14152527, ..., -0.43480804,\n         0.10629211,  0.02951146],\n       ...,\n       [-0.01374034,  0.04225845, -0.36153166, ...,  0.21201301,\n        -0.07383279, -0.37504383],\n       [-0.09611118, -0.1860438 , -0.13644943, ...,  0.13870102,\n        -0.31863923,  0.63349244],\n       [-0.07073697,  0.15649816, -0.37633338, ...,  0.48772314,\n        -0.49696284,  0.32119666]])"
     },
     "metadata": {},
     "execution_count": 108
    }
   ],
   "source": [
    "draws"
   ]
  },
  {
   "cell_type": "code",
   "execution_count": 109,
   "metadata": {},
   "outputs": [],
   "source": [
    "steps = np.where(draws > 0, 1, -1)"
   ]
  },
  {
   "cell_type": "code",
   "execution_count": 110,
   "metadata": {},
   "outputs": [],
   "source": [
    "walk = steps.cumsum(1)"
   ]
  },
  {
   "cell_type": "code",
   "execution_count": 111,
   "metadata": {
    "scrolled": true
   },
   "outputs": [
    {
     "output_type": "execute_result",
     "data": {
      "text/plain": "array([[ -1,  -2,  -3, ..., -20, -21, -22],\n       [  1,   0,  -1, ...,  -6,  -7,  -8],\n       [  1,   0,   1, ..., -66, -65, -64],\n       ...,\n       [ -1,   0,  -1, ...,  14,  13,  12],\n       [ -1,  -2,  -3, ...,  -2,  -3,  -2],\n       [ -1,   0,  -1, ...,   0,  -1,   0]])"
     },
     "metadata": {},
     "execution_count": 111
    }
   ],
   "source": [
    "walk"
   ]
  },
  {
   "cell_type": "code",
   "execution_count": 112,
   "metadata": {},
   "outputs": [
    {
     "output_type": "execute_result",
     "data": {
      "text/plain": "591"
     },
     "metadata": {},
     "execution_count": 112
    }
   ],
   "source": [
    "#number of random walks that hit -50\n",
    "hits50 = (walk == -50).any(1)\n",
    "\n",
    "hits50.sum()"
   ]
  },
  {
   "cell_type": "code",
   "execution_count": 113,
   "metadata": {},
   "outputs": [
    {
     "output_type": "execute_result",
     "data": {
      "text/plain": "673.2978003384095"
     },
     "metadata": {},
     "execution_count": 113
    }
   ],
   "source": [
    "#minimum crossing time\n",
    "crossing_times = (walk[hits50] == -50).argmax(1)\n",
    "crossing_times.mean()"
   ]
  }
 ],
 "metadata": {
  "kernelspec": {
   "display_name": "Python 3.8.3 64-bit",
   "language": "python",
   "name": "python38364bita33c045d11cf4bfc837fcd954533ce65"
  },
  "language_info": {
   "codemirror_mode": {
    "name": "ipython",
    "version": 3
   },
   "file_extension": ".py",
   "mimetype": "text/x-python",
   "name": "python",
   "nbconvert_exporter": "python",
   "pygments_lexer": "ipython3",
   "version": "3.8.3-final"
  }
 },
 "nbformat": 4,
 "nbformat_minor": 2
}