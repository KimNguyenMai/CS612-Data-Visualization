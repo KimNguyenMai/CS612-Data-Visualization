{
 "cells": [
  {
   "cell_type": "code",
   "execution_count": 51,
   "metadata": {},
   "outputs": [],
   "source": [
    "import random\n",
    "import numpy as np"
   ]
  },
  {
   "cell_type": "code",
   "execution_count": 52,
   "metadata": {},
   "outputs": [],
   "source": [
    "nwalks = 5000\n",
    "nsteps = 1000"
   ]
  },
  {
   "cell_type": "code",
   "execution_count": 87,
   "metadata": {},
   "outputs": [],
   "source": [
    "draws = np.random.normal(loc=0, scale=0.25, size=(nwalks, nsteps))"
   ]
  },
  {
   "cell_type": "code",
   "execution_count": 95,
   "metadata": {},
   "outputs": [
    {
     "output_type": "execute_result",
     "data": {
      "text/plain": "array([[-0.02461896, -0.21976837, -0.05456933, ...,  0.32091751,\n         0.20392538,  0.34855121],\n       [ 0.27872323,  0.01748543, -0.21505067, ...,  0.14811194,\n        -0.27487096,  0.18106214],\n       [ 0.03236821, -0.09936919, -0.05242761, ..., -0.29742808,\n        -0.27089822, -0.24346144],\n       ...,\n       [ 0.15308312, -0.06547673,  0.41902182, ..., -0.3180978 ,\n        -0.0882397 ,  0.04313629],\n       [-0.34174103,  0.25478381, -0.18833911, ..., -0.02045398,\n         0.02237234,  0.04657978],\n       [-0.4303327 ,  0.12690148, -0.02567583, ...,  0.05354796,\n         0.42268523,  0.18789182]])"
     },
     "metadata": {},
     "execution_count": 95
    }
   ],
   "source": [
    "draws"
   ]
  },
  {
   "cell_type": "code",
   "execution_count": 101,
   "metadata": {},
   "outputs": [],
   "source": [
    "steps = np.where(draws > 0, 1, -1)"
   ]
  },
  {
   "cell_type": "code",
   "execution_count": 102,
   "metadata": {},
   "outputs": [],
   "source": [
    "walk = steps.cumsum(1)"
   ]
  },
  {
   "cell_type": "code",
   "execution_count": 80,
   "metadata": {
    "scrolled": true
   },
   "outputs": [
    {
     "output_type": "execute_result",
     "data": {
      "text/plain": "array([[ -1,  -2,  -1, ..., -24, -23, -22],\n       [ -1,  -2,  -3, ..., -32, -31, -32],\n       [  1,   2,   1, ...,  20,  21,  22],\n       ...,\n       [  1,   2,   1, ...,  22,  21,  20],\n       [  1,   0,  -1, ...,  34,  35,  34],\n       [ -1,   0,  -1, ..., -26, -25, -26]])"
     },
     "metadata": {},
     "execution_count": 80
    }
   ],
   "source": [
    "walk"
   ]
  },
  {
   "cell_type": "code",
   "execution_count": 104,
   "metadata": {},
   "outputs": [
    {
     "output_type": "execute_result",
     "data": {
      "text/plain": "555"
     },
     "metadata": {},
     "execution_count": 104
    }
   ],
   "source": [
    "#number of random walks that hit -50\n",
    "hits50 = (walk == -50).any(1)\n",
    "\n",
    "hits50.sum()"
   ]
  },
  {
   "cell_type": "code",
   "execution_count": 69,
   "metadata": {},
   "outputs": [
    {
     "output_type": "execute_result",
     "data": {
      "text/plain": "671.7567567567568"
     },
     "metadata": {},
     "execution_count": 69
    }
   ],
   "source": [
    "#minimum crossing time\n",
    "crossing_times = (walk[hits50] == -50).argmax(1)\n",
    "crossing_times.mean()"
   ]
  },
  {
   "cell_type": "code",
   "execution_count": null,
   "metadata": {},
   "outputs": [],
   "source": []
  }
 ],
 "metadata": {
  "kernelspec": {
   "display_name": "Python 3.8.3 64-bit",
   "language": "python",
   "name": "python38364bita33c045d11cf4bfc837fcd954533ce65"
  },
  "language_info": {
   "codemirror_mode": {
    "name": "ipython",
    "version": 3
   },
   "file_extension": ".py",
   "mimetype": "text/x-python",
   "name": "python",
   "nbconvert_exporter": "python",
   "pygments_lexer": "ipython3",
   "version": "3.8.3-final"
  }
 },
 "nbformat": 4,
 "nbformat_minor": 2
}